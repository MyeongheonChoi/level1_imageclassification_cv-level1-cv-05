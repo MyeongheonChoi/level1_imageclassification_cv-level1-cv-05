{
 "cells": [
  {
   "cell_type": "code",
   "execution_count": null,
   "id": "38709ac2-c16c-4391-804c-8871441ef099",
   "metadata": {},
   "outputs": [],
   "source": [
    "#DeepFace를 이용하여 데이터에 bounding box를 찾음"
   ]
  },
  {
   "cell_type": "code",
   "execution_count": null,
   "id": "0f2beb71",
   "metadata": {},
   "outputs": [],
   "source": [
    "import os\n",
    "import sys\n",
    "from glob import glob\n",
    "import numpy as np\n",
    "import pandas as pd\n",
    "import cv2\n",
    "from PIL import Image\n",
    "from tqdm.notebook import tqdm\n",
    "import time\n",
    "\n",
    "import matplotlib.pyplot as plt\n",
    "import matplotlib.patches as patches\n",
    "import multiprocessing as mp\n",
    "from IPython.display import clear_output\n",
    "\n",
    "from enum import Enum"
   ]
  },
  {
   "cell_type": "code",
   "execution_count": null,
   "id": "eeda42fb",
   "metadata": {},
   "outputs": [],
   "source": [
    "!pip install pandas opencv-python tqdm "
   ]
  },
  {
   "cell_type": "code",
   "execution_count": null,
   "id": "800168a9",
   "metadata": {},
   "outputs": [],
   "source": [
    "#!apt-get install -y libgl1-mesa-glx"
   ]
  },
  {
   "cell_type": "code",
   "execution_count": null,
   "id": "1135dddf-e75c-4956-9ae1-6604a5b2eff8",
   "metadata": {},
   "outputs": [],
   "source": [
    "#!pip install tensorflow-gpu\n",
    "#!pip install tensorflow"
   ]
  },
  {
   "cell_type": "code",
   "execution_count": null,
   "id": "510ec421-684d-4533-a3da-81e7f0d7bbc5",
   "metadata": {},
   "outputs": [],
   "source": [
    "from tensorflow.python.client import device_lib\n",
    "device_lib.list_local_devices()"
   ]
  },
  {
   "cell_type": "code",
   "execution_count": null,
   "id": "6d20f8af-1c80-4ade-bfc1-b93197455d6c",
   "metadata": {},
   "outputs": [],
   "source": [
    "#!pip install deepface"
   ]
  },
  {
   "cell_type": "code",
   "execution_count": null,
   "id": "b1a32402-3761-49c3-b68a-860e0535e313",
   "metadata": {},
   "outputs": [],
   "source": [
    "from deepface import DeepFace"
   ]
  },
  {
   "cell_type": "code",
   "execution_count": null,
   "id": "cedd6afe",
   "metadata": {},
   "outputs": [],
   "source": [
    "data_dir = os.path.join(os.getcwd(), 'train', 'images')"
   ]
  },
  {
   "cell_type": "code",
   "execution_count": null,
   "id": "e449947f",
   "metadata": {},
   "outputs": [],
   "source": [
    "class MaskLabels(int, Enum):\n",
    "    MASK = 0\n",
    "    INCORRECT = 1\n",
    "    NORMAL = 2\n",
    "\n",
    "_file_names = {\n",
    "        \"mask1\": MaskLabels.MASK,\n",
    "        \"mask2\": MaskLabels.MASK,\n",
    "        \"mask3\": MaskLabels.MASK,\n",
    "        \"mask4\": MaskLabels.MASK,\n",
    "        \"mask5\": MaskLabels.MASK,\n",
    "        \"incorrect_mask\": MaskLabels.INCORRECT,\n",
    "        \"normal\": MaskLabels.NORMAL\n",
    "    }"
   ]
  },
  {
   "cell_type": "code",
   "execution_count": null,
   "id": "f4f50843-eabb-4f4b-8eb8-dc2c8372a956",
   "metadata": {},
   "outputs": [],
   "source": [
    "# train 에 대해 bounding box 찾음"
   ]
  },
  {
   "cell_type": "code",
   "execution_count": null,
   "id": "4ebfc92e",
   "metadata": {},
   "outputs": [],
   "source": [
    "check_list = []\n",
    "backends = [\n",
    "  'opencv', \n",
    "  'ssd', \n",
    "  'dlib', \n",
    "  'mtcnn', \n",
    "  'retinaface', \n",
    "  'mediapipe'\n",
    "]\n",
    "\n",
    "processed = 0\n",
    "visual = True\n",
    "manualcheck = False\n",
    "\n",
    "profiles = os.listdir(data_dir)\n",
    "for profile in profiles:\n",
    "    if profile.startswith(\".\"):  # \".\" 로 시작하는 파일은 무시합니다\n",
    "        continue\n",
    "\n",
    "    print(processed)\n",
    "\n",
    "    img_folder = os.path.join(data_dir, profile)\n",
    "    print(img_folder)\n",
    "    \n",
    "    imgs = []\n",
    "    bbox = []\n",
    "    ages = []\n",
    "    for file_name in os.listdir(img_folder):\n",
    "        _file_name, ext = os.path.splitext(file_name)\n",
    "        if _file_name not in _file_names:\n",
    "            continue\n",
    "        elif file_name[-4:] != \".jpg\": # jpg 파일만 처리\n",
    "            continue\n",
    "        \n",
    "        img_path = os.path.join(data_dir, profile, file_name)  # (resized_data, 000004_male_Asian_54, mask1.jpg)\n",
    "        imgs.append(np.array(Image.open(img_path)))\n",
    "      \n",
    "        # DeepFace\n",
    "        analyzedresult = DeepFace.analyze(img_path = os.path.join(img_folder, file_name), actions = ['age'], \n",
    "                                          detector_backend = backends[4], enforce_detection = False)\n",
    "        \n",
    "        if analyzedresult is not None:\n",
    "            bbox_coord = analyzedresult[\"region\"]\n",
    "            \n",
    "            if _file_name == 'normal':\n",
    "                age = analyzedresult['age']\n",
    "            \n",
    "            bboxfile = open(img_path.rstrip(\".jpg\") + \".txt\", 'w')\n",
    "            bboxlog = \"%d, %d, %d, %d\" %(bbox_coord['x'], bbox_coord['y'], bbox_coord['w'], bbox_coord['h'])\n",
    "            bboxfile.write(bboxlog)\n",
    "            bboxfile.close()\n",
    "            \n",
    "            if visual:\n",
    "                bbox.append(patches.Rectangle((bbox_coord['x'], bbox_coord['y']), bbox_coord['w'], bbox_coord['h'], linewidth=3, edgecolor='b', facecolor='none'))\n",
    "\n",
    "        \n",
    "        processed = processed + 1;\n",
    "    \n",
    "    if visual and len(bbox) >= 7:\n",
    "        n_rows, n_cols = 2, 4\n",
    "        fig, axes = plt.subplots(n_rows, n_cols, sharex=True, sharey=True, figsize=(15, 10))\n",
    "        for i in range(7):\n",
    "            axes[i//(n_rows+2)][i%n_cols].imshow(imgs[i])\n",
    "            axes[i//(n_rows+2)][i%n_cols].add_patch(bbox[i])\n",
    "\n",
    "        clear_output()\n",
    "\n",
    "        print(\"Analyzed age : \",  age)\n",
    "        plt.tight_layout()\n",
    "        plt.show()\n",
    "        \n",
    "        if manualcheck:\n",
    "            check = True\n",
    "            while check:\n",
    "                check_ = input('1 -> pass, 0 -> check : ')\n",
    "                if check_ == '1':\n",
    "                    check = False\n",
    "                elif check_ == '0':\n",
    "                    check_list.append(j)\n",
    "                    check = False\n",
    "                else:\n",
    "                    pass\n",
    "        \n"
   ]
  },
  {
   "cell_type": "code",
   "execution_count": null,
   "id": "578b4ca7",
   "metadata": {},
   "outputs": [],
   "source": [
    "_file_name"
   ]
  },
  {
   "cell_type": "code",
   "execution_count": null,
   "id": "3f80d3f2-d6ff-401a-9d30-83d78436712b",
   "metadata": {},
   "outputs": [],
   "source": [
    "data_dir = os.path.join(os.getcwd(), 'eval', 'images')"
   ]
  },
  {
   "cell_type": "code",
   "execution_count": null,
   "id": "ad711691-ca3d-41bd-bb5f-dae5491ffb7d",
   "metadata": {},
   "outputs": [],
   "source": [
    "# train 에 대해 bounding box 찾음"
   ]
  },
  {
   "cell_type": "code",
   "execution_count": null,
   "id": "87c9485c",
   "metadata": {
    "scrolled": true
   },
   "outputs": [],
   "source": [
    "processed = 0\n",
    "manualcheck = False\n",
    "for file_name in os.listdir(data_dir):\n",
    "    \n",
    "    print(processed)\n",
    "    \n",
    "    if file_name[0] == '.':\n",
    "        continue\n",
    "    elif file_name[-4:] != \".jpg\": # jpg 파일만 처리\n",
    "        continue\n",
    "\n",
    "    imgs = []\n",
    "    bbox = []\n",
    "\n",
    "    img_path = os.path.join(data_dir, file_name)  # (resized_data, 000004_male_Asian_54, mask1.jpg)\n",
    "    imgs.append(np.array(Image.open(img_path)))\n",
    "\n",
    "    # DeepFace\n",
    "    analyzedresult = DeepFace.analyze(img_path = os.path.join(data_dir, file_name), actions = ['gender'], \n",
    "                                      detector_backend = backends[4], enforce_detection = False)\n",
    "\n",
    "    if analyzedresult is not None:\n",
    "        bbox_coord = analyzedresult[\"region\"]\n",
    "\n",
    "        bboxfile = open(img_path.rstrip(\".jpg\") + \".txt\", 'w')\n",
    "        bboxlog = \"%d, %d, %d, %d\" %(bbox_coord['x'], bbox_coord['y'], bbox_coord['w'], bbox_coord['h'])\n",
    "        bboxfile.write(bboxlog)\n",
    "        bboxfile.close()\n",
    "\n",
    "        if visual:\n",
    "            bbox.append(patches.Rectangle((bbox_coord['x'], bbox_coord['y']), bbox_coord['w'], bbox_coord['h'], linewidth=3, edgecolor='b', facecolor='none'))\n",
    "\n",
    "\n",
    "    processed = processed + 1;\n",
    "\n",
    "    if visual and len(bbox) > 0:\n",
    "        fig, axes = plt.subplots()#sharex=True, sharey=True, figsize=(15, 10))\n",
    "\n",
    "        axes.imshow(imgs[0])\n",
    "        axes.add_patch(bbox[0])\n",
    "\n",
    "        clear_output()\n",
    "        plt.tight_layout()\n",
    "        plt.show()\n",
    "\n",
    "        if manualcheck:\n",
    "            check = True\n",
    "            while check:\n",
    "                check_ = input('1 -> pass, 0 -> check : ')\n",
    "                if check_ == '1':\n",
    "                    check = False\n",
    "                elif check_ == '0':\n",
    "                    check_list.append(j)\n",
    "                    check = False\n",
    "                else:\n",
    "                    pass"
   ]
  },
  {
   "cell_type": "markdown",
   "id": "6829ff8a",
   "metadata": {},
   "source": [
    "저장된 bounding box정보를 읽어서 확인.\n",
    "train폴더는 7장"
   ]
  },
  {
   "cell_type": "code",
   "execution_count": null,
   "id": "7155ca29",
   "metadata": {},
   "outputs": [],
   "source": [
    "processed = 0\n",
    "visual = True\n",
    "manualcheck = False\n",
    "\n",
    "profiles = os.listdir(data_dir)\n",
    "for profile in profiles:\n",
    "    if profile.startswith(\".\"):  # \".\" 로 시작하는 파일은 무시합니다\n",
    "        continue\n",
    "\n",
    "    print(processed)\n",
    "\n",
    "    img_folder = os.path.join(data_dir, profile)\n",
    "    print(img_folder)\n",
    "    \n",
    "    imgs = []\n",
    "    bbox = []\n",
    "    for file_name in os.listdir(img_folder):\n",
    "        _file_name, ext = os.path.splitext(file_name)\n",
    "        if _file_name not in _file_names:  # \".\" 로 시작하는 파일 및 invalid 한 파일들은 무시합니다\n",
    "            continue\n",
    "        elif file_name[-4:] != \".jpg\": # jpg 파일만 처리\n",
    "            continue\n",
    "        \n",
    "        img_path = os.path.join(data_dir, profile, file_name)  # (resized_data, 000004_male_Asian_54, mask1.jpg)\n",
    "        imgs.append(np.array(Image.open(img_path)))\n",
    "      \n",
    "        # DeepFace\n",
    "        analyzedresult = DeepFace.analyze(img_path = os.path.join(img_folder, file_name), actions = ['gender'], \n",
    "                                          detector_backend = backends[4], enforce_detection = False)\n",
    "        \n",
    "        if analyzedresult is not None:\n",
    "            bbox_coord = analyzedresult[\"region\"]\n",
    "            \n",
    "            bboxfile = open(img_path.rstrip(\".jpg\") + \".txt\", 'r')\n",
    "            bboxlog = \"%d, %d, %d, %d\" %(bbox_coord['x'], bbox_coord['y'], bbox_coord['w'], bbox_coord['h'])\n",
    "            bboxfile.write(bboxlog)\n",
    "            bboxfile.close()\n",
    "        \n",
    "            if visual:\n",
    "                bbox.append(patches.Rectangle((bbox_coord['x'], bbox_coord['y']), bbox_coord['w'], bbox_coord['h'], linewidth=3, edgecolor='b', facecolor='none'))\n",
    "\n",
    "        \n",
    "        processed = processed + 1;\n",
    "    \n",
    "    if visual and len(bbox) >= 7:\n",
    "        n_rows, n_cols = 2, 4\n",
    "        fig, axes = plt.subplots(n_rows, n_cols, sharex=True, sharey=True, figsize=(15, 10))\n",
    "        for i in range(7):\n",
    "            axes[i//(n_rows+2)][i%n_cols].imshow(imgs[i])\n",
    "            axes[i//(n_rows+2)][i%n_cols].add_patch(bbox[i])\n",
    "\n",
    "        clear_output()\n",
    "        plt.tight_layout()\n",
    "        plt.show()\n",
    "        \n",
    "        if manualcheck:\n",
    "            check = True\n",
    "            while check:\n",
    "                check_ = input('1 -> pass, 0 -> check : ')\n",
    "                if check_ == '1':\n",
    "                    check = False\n",
    "                elif check_ == '0':\n",
    "                    check_list.append(j)\n",
    "                    check = False\n",
    "                else:\n",
    "                    pass"
   ]
  },
  {
   "cell_type": "code",
   "execution_count": null,
   "id": "cc0a7429",
   "metadata": {},
   "outputs": [],
   "source": []
  },
  {
   "cell_type": "code",
   "execution_count": null,
   "id": "175ab9f5",
   "metadata": {},
   "outputs": [],
   "source": []
  }
 ],
 "metadata": {
  "kernelspec": {
   "display_name": "Python 3 (ipykernel)",
   "language": "python",
   "name": "python3"
  },
  "language_info": {
   "codemirror_mode": {
    "name": "ipython",
    "version": 3
   },
   "file_extension": ".py",
   "mimetype": "text/x-python",
   "name": "python",
   "nbconvert_exporter": "python",
   "pygments_lexer": "ipython3",
   "version": "3.7.13"
  },
  "vscode": {
   "interpreter": {
    "hash": "916dbcbb3f70747c44a77c7bcd40155683ae19c65e1c03b4aa3499c5328201f1"
   }
  }
 },
 "nbformat": 4,
 "nbformat_minor": 5
}
