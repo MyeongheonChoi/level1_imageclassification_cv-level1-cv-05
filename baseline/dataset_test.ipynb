{
 "cells": [
  {
   "cell_type": "code",
   "execution_count": 3,
   "id": "8782003e-7884-4fcc-9a9f-e57cd941ec4f",
   "metadata": {},
   "outputs": [],
   "source": [
    "from dataset import MaskBaseDataset\n",
    "from importlib import import_module\n",
    "from torch.utils.data import DataLoader\n",
    "import matplotlib.pyplot as plt\n",
    "from PIL import Image\n",
    "import torchvision.transforms as transforms"
   ]
  },
  {
   "cell_type": "code",
   "execution_count": 4,
   "id": "75248a73-189f-4db7-88c0-f737ba47e909",
   "metadata": {},
   "outputs": [],
   "source": [
    "data_dir = '/opt/ml/input/data/train/images'"
   ]
  },
  {
   "cell_type": "code",
   "execution_count": 5,
   "id": "325aa8c7-5774-48ae-997f-48a3b0653a53",
   "metadata": {},
   "outputs": [],
   "source": [
    "dataset = MaskBaseDataset(data_dir=data_dir)"
   ]
  },
  {
   "cell_type": "code",
   "execution_count": 7,
   "id": "3202d0ba-54eb-407f-8816-90815ad8b1ed",
   "metadata": {},
   "outputs": [],
   "source": [
    "base_aug = 'BaseAugmentation'\n",
    "test1_aug = 'BrightnessAugmentationDot05'\n",
    "test2_aug = 'ContrastAugmentationDot05'\n",
    "test3_aug = 'SaturationAugmentationDot05'\n",
    "test4_aug = 'HueAugmentationDot05'"
   ]
  },
  {
   "cell_type": "code",
   "execution_count": 8,
   "id": "1082d387-b38d-414c-b869-ed4481498d7b",
   "metadata": {},
   "outputs": [],
   "source": [
    "transform_module = getattr(import_module(\"dataset\"), base_aug)  # default: BaseAugmentation\n",
    "transform = transform_module(\n",
    "    resize=[128, 96],\n",
    "    mean=dataset.mean,\n",
    "    std=dataset.std,\n",
    ")\n",
    "dataset.set_transform(transform)"
   ]
  },
  {
   "cell_type": "code",
   "execution_count": 10,
   "id": "b23067b1-da8c-4248-b291-98c18d1944d2",
   "metadata": {},
   "outputs": [],
   "source": [
    "train_set, val_set = dataset.split_dataset()"
   ]
  },
  {
   "cell_type": "code",
   "execution_count": 16,
   "id": "4d137989-eb57-4ea2-b012-e2de635f453c",
   "metadata": {},
   "outputs": [
    {
     "data": {
      "text/plain": [
       "Compose(\n",
       "    Resize(size=[128, 96], interpolation=PIL.Image.BILINEAR)\n",
       "    ToTensor()\n",
       "    Normalize(mean=(0.548, 0.504, 0.479), std=(0.237, 0.247, 0.246))\n",
       ")"
      ]
     },
     "execution_count": 16,
     "metadata": {},
     "output_type": "execute_result"
    }
   ],
   "source": [
    "dataset.transform.transform"
   ]
  },
  {
   "cell_type": "code",
   "execution_count": 7,
   "id": "95cdc581-d8df-4b5d-adac-bee737b1383c",
   "metadata": {},
   "outputs": [],
   "source": [
    "data_loader = DataLoader(\n",
    "    dataset,\n",
    "    batch_size=6,\n",
    "    shuffle=True,\n",
    "    drop_last=True,\n",
    ")"
   ]
  },
  {
   "cell_type": "code",
   "execution_count": null,
   "id": "ffcc38c9-e588-4622-a775-0a0e7f7583a6",
   "metadata": {},
   "outputs": [],
   "source": []
  }
 ],
 "metadata": {
  "kernelspec": {
   "display_name": "Python 3 (ipykernel)",
   "language": "python",
   "name": "python3"
  },
  "language_info": {
   "codemirror_mode": {
    "name": "ipython",
    "version": 3
   },
   "file_extension": ".py",
   "mimetype": "text/x-python",
   "name": "python",
   "nbconvert_exporter": "python",
   "pygments_lexer": "ipython3",
   "version": "3.8.5"
  }
 },
 "nbformat": 4,
 "nbformat_minor": 5
}
