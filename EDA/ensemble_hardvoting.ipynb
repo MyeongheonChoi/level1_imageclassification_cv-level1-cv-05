{
 "cells": [
  {
   "cell_type": "code",
   "execution_count": 105,
   "id": "b9f12f7b",
   "metadata": {},
   "outputs": [],
   "source": [
    "import pandas as pd\n",
    "from pprint import pprint\n",
    "from collections import Counter as C\n",
    "import os\n",
    "import matplotlib.pyplot as plt"
   ]
  },
  {
   "cell_type": "code",
   "execution_count": 106,
   "id": "4c35f5e5",
   "metadata": {},
   "outputs": [],
   "source": [
    "out0 = pd.read_csv('output_0.csv')\n",
    "out1 = pd.read_csv('output_1.csv')\n",
    "out2 = pd.read_csv('output_2.csv')\n",
    "out3 = pd.read_csv('output_3.csv')\n",
    "out4 = pd.read_csv('output_4.csv')\n",
    "out5 = pd.read_csv('output_5.csv')\n",
    "out6 = pd.read_csv('output_6.csv')\n",
    "# out7 = pd.read_csv('output_7.csv')"
   ]
  },
  {
   "cell_type": "code",
   "execution_count": 107,
   "id": "21c2d6c3",
   "metadata": {},
   "outputs": [],
   "source": [
    "out = pd.DataFrame(columns = ['ImageID']+[f'ans{i}' for i in range(7)])\n",
    "mask = pd.DataFrame(columns = ['ImageID']+[f'mask{i}' for i in range(7)])\n",
    "gen = pd.DataFrame(columns = ['ImageID']+[f'gen{i}' for i in range(7)])\n",
    "age = pd.DataFrame(columns = ['ImageID']+[f'age{i}' for i in range(7)])\n",
    "decode_ans = pd.DataFrame(columns = ['ImageID', 'mask','gen','age'])"
   ]
  },
  {
   "cell_type": "code",
   "execution_count": 108,
   "id": "5dd28aec",
   "metadata": {},
   "outputs": [],
   "source": [
    "out['ImageID'] = out0['ImageID']\n",
    "mask['ImageID'] = out0['ImageID']\n",
    "gen['ImageID'] = out0['ImageID']\n",
    "age['ImageID'] = out0['ImageID']\n",
    "decode_ans['ImageID'] = out0['ImageID']\n",
    "out['ans0'] = out0['ans']\n",
    "out['ans1'] = out1['ans']\n",
    "out['ans2'] = out2['ans']\n",
    "out['ans3'] = out3['ans']\n",
    "out['ans4'] = out4['ans']\n",
    "out['ans5'] = out5['ans']\n",
    "out['ans6'] = out6['ans']\n",
    "# out['ans7'] = out7['ans']"
   ]
  },
  {
   "cell_type": "code",
   "execution_count": 96,
   "id": "ff073e4c",
   "metadata": {},
   "outputs": [],
   "source": [
    "def encode_multi_class(mask_label, gender_label, age_label):\n",
    "    return mask_label * 6 + gender_label * 3 + age_label\n",
    "def decode_multi_class(multi_class_label):\n",
    "    mask_label = (multi_class_label // 6) % 3\n",
    "    gender_label = (multi_class_label // 3) % 2\n",
    "    age_label = multi_class_label % 3\n",
    "    return [mask_label, gender_label, age_label]"
   ]
  },
  {
   "cell_type": "code",
   "execution_count": 110,
   "id": "4fc5d3d5",
   "metadata": {},
   "outputs": [],
   "source": [
    "mask_decodes = []\n",
    "gen_decodes = []\n",
    "age_decodes = []\n",
    "for i in range(len(out0)):\n",
    "    row = out.loc[i, :]\n",
    "    mask_decode = []\n",
    "    gen_decode = []\n",
    "    age_decode = []\n",
    "    for j in range(7):\n",
    "        d = decode_multi_class(row[f'ans{j}'])\n",
    "        mask_decode.append(d[0])\n",
    "        gen_decode.append(d[1])\n",
    "        age_decode.append(d[2])\n",
    "    mask_decodes.append(mask_decode)\n",
    "    gen_decodes.append(gen_decode)\n",
    "    age_decodes.append(age_decode)"
   ]
  },
  {
   "cell_type": "code",
   "execution_count": 113,
   "id": "5829fdfa",
   "metadata": {},
   "outputs": [],
   "source": [
    "mask[[f'mask{i}' for i in range(7)]] = mask_decodes\n",
    "gen[[f'gen{i}' for i in range(7)]] = gen_decodes\n",
    "age[[f'age{i}' for i in range(7)]] = age_decodes"
   ]
  },
  {
   "cell_type": "code",
   "execution_count": 119,
   "id": "9f4a1c3b",
   "metadata": {},
   "outputs": [],
   "source": [
    "mask_ans = []\n",
    "mask_check = []\n",
    "for i in range(len(mask)):\n",
    "    row = mask.loc[i,:][[f'mask{i}' for i in range(7)]]\n",
    "    cnt = C(row).most_common(2)\n",
    "    first = cnt[0]\n",
    "    mask_ans.append(first[0])\n",
    "    if len(cnt) >= 2:\n",
    "        second = cnt[1]\n",
    "        if first[1] == second[1]:\n",
    "            mask_check.append((i, first[0], second[0]))"
   ]
  },
  {
   "cell_type": "code",
   "execution_count": 120,
   "id": "1bf23e3e",
   "metadata": {},
   "outputs": [],
   "source": [
    "gen_ans = []\n",
    "gen_check = []\n",
    "for i in range(len(gen)):\n",
    "    row = gen.loc[i,:][[f'gen{i}' for i in range(7)]]\n",
    "    cnt = C(row).most_common(2)\n",
    "    first = cnt[0]\n",
    "    gen_ans.append(first[0])\n",
    "    if len(cnt) >= 2:\n",
    "        second = cnt[1]\n",
    "        if first[1] == second[1]:\n",
    "            gen_check.append((i, first[0], second[0]))"
   ]
  },
  {
   "cell_type": "code",
   "execution_count": 121,
   "id": "f974a9a1",
   "metadata": {},
   "outputs": [],
   "source": [
    "age_ans = []\n",
    "age_check = []\n",
    "for i in range(len(age)):\n",
    "    row = age.loc[i,:][[f'age{i}' for i in range(7)]]\n",
    "    cnt = C(row).most_common(2)\n",
    "    first = cnt[0]\n",
    "    age_ans.append(first[0])\n",
    "    if len(cnt) >= 2:\n",
    "        second = cnt[1]\n",
    "        if first[1] == second[1]:\n",
    "            age_check.append((i, first[0], second[0]))"
   ]
  },
  {
   "cell_type": "code",
   "execution_count": 122,
   "id": "c09db080",
   "metadata": {},
   "outputs": [],
   "source": [
    "for i in [j[0] for j in age_check]:\n",
    "    age_ans[i] = 1"
   ]
  },
  {
   "cell_type": "code",
   "execution_count": 123,
   "id": "f2b79054",
   "metadata": {},
   "outputs": [],
   "source": [
    "decode_ans['mask'] = mask_ans\n",
    "decode_ans['gen'] = gen_ans\n",
    "decode_ans['age'] = age_ans"
   ]
  },
  {
   "cell_type": "code",
   "execution_count": 125,
   "id": "e2db17b7",
   "metadata": {},
   "outputs": [],
   "source": [
    "decode_ans['ans'] = decode_ans['mask']*6+decode_ans['gen']*3+decode_ans['age']"
   ]
  },
  {
   "cell_type": "code",
   "execution_count": 127,
   "id": "38d47916",
   "metadata": {},
   "outputs": [],
   "source": [
    "answer = decode_ans[['ImageID', 'ans']]"
   ]
  },
  {
   "cell_type": "code",
   "execution_count": 103,
   "id": "388cd261",
   "metadata": {},
   "outputs": [],
   "source": [
    "answer.to_csv('answer.csv', index = False)"
   ]
  }
 ],
 "metadata": {
  "kernelspec": {
   "display_name": "Python 3 (ipykernel)",
   "language": "python",
   "name": "python3"
  },
  "language_info": {
   "codemirror_mode": {
    "name": "ipython",
    "version": 3
   },
   "file_extension": ".py",
   "mimetype": "text/x-python",
   "name": "python",
   "nbconvert_exporter": "python",
   "pygments_lexer": "ipython3",
   "version": "3.9.12"
  }
 },
 "nbformat": 4,
 "nbformat_minor": 5
}
