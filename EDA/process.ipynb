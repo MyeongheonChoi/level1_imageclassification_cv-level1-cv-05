{
 "cells": [
  {
   "cell_type": "code",
   "execution_count": 12,
   "id": "cedba80e-e992-4305-b345-d4404fa53642",
   "metadata": {},
   "outputs": [],
   "source": [
    "import os\n",
    "import shutil\n",
    "import numpy as np\n",
    "import pandas as pd\n",
    "import matplotlib.pyplot as plt\n",
    "import seaborn as sns"
   ]
  },
  {
   "cell_type": "code",
   "execution_count": 25,
   "id": "b0c89ec7-2b5b-4ebd-aecc-f924da0638dd",
   "metadata": {},
   "outputs": [],
   "source": [
    "Image_path = r'/opt/ml/input/data/train/images'\n",
    "csv_path = r'/opt/ml/input/data/train/train.csv'"
   ]
  },
  {
   "cell_type": "code",
   "execution_count": null,
   "id": "b21a9fc1-0f94-494d-a2de-fa54b560cd27",
   "metadata": {},
   "outputs": [],
   "source": [
    "print(df[df.path == '000020_female_Asian_50'])\n",
    "\n",
    "# 이미지 확인\n",
    "image = cv2.imread('/opt/ml/input/data/train/images/003113_female_Asian_20/incorrect_mask.jpg')\n",
    "image = cv2.cvtColor(image, cv2.COLOR_BGR2RGB)\n",
    "\n",
    "fig, ax = plt.subplots(figsize=(12, 4))\n",
    "ax.imshow(image)"
   ]
  },
  {
   "cell_type": "code",
   "execution_count": 26,
   "id": "83937618-b487-4243-8088-f068995862e9",
   "metadata": {},
   "outputs": [],
   "source": [
    "to_label = ['000767_female_Asian_56', '001498-1_male_Asian_23','004432_male_Asian_43', '005223_male_Asian_22', '006359_female_Asian_18', '006360_female_Asian_18', \n",
    "              '006361_female_Asian_18', '006362_female_Asian_18','006363_female_Asian_18', '006364_female_Asian_18', '006424_female_Asian_18', '000667_female_Asian_57',\n",
    "              '003437_female_Asian_30', '003421_female_Asian_38']\n",
    "from_label = ['000767_male_Asian_56', '001498-1_female_Asian_23','004432_female_Asian_43', '005223_female_Asian_22', '006359_male_Asian_18', '006360_male_Asian_18', \n",
    "              '006361_male_Asian_18', '006362_male_Asian_18','006363_male_Asian_18', '006364_male_Asian_18', '006424_male_Asian_18', '000667_male_Asian_57',\n",
    "            '003437_male_Asian_30', '003421_male_Asian_38']"
   ]
  },
  {
   "cell_type": "code",
   "execution_count": 27,
   "id": "6ed4372b-35fd-40b9-951d-c7e3b2b30516",
   "metadata": {
    "collapsed": true,
    "jupyter": {
     "outputs_hidden": true
    },
    "tags": []
   },
   "outputs": [
    {
     "name": "stdout",
     "output_type": "stream",
     "text": [
      "/opt/ml/input/data/train/images/000767_male_Asian_56\n",
      "/opt/ml/input/data/train/images/000767_female_Asian_56\n",
      "label changed 000767_male_Asian_56 000767_female_Asian_56\n",
      "/opt/ml/input/data/train/images/001498-1_female_Asian_23\n",
      "/opt/ml/input/data/train/images/001498-1_male_Asian_23\n",
      "label changed 001498-1_female_Asian_23 001498-1_male_Asian_23\n",
      "/opt/ml/input/data/train/images/004432_female_Asian_43\n",
      "/opt/ml/input/data/train/images/004432_male_Asian_43\n",
      "label changed 004432_female_Asian_43 004432_male_Asian_43\n",
      "/opt/ml/input/data/train/images/005223_female_Asian_22\n",
      "/opt/ml/input/data/train/images/005223_male_Asian_22\n",
      "label changed 005223_female_Asian_22 005223_male_Asian_22\n",
      "/opt/ml/input/data/train/images/006359_male_Asian_18\n",
      "/opt/ml/input/data/train/images/006359_female_Asian_18\n",
      "label changed 006359_male_Asian_18 006359_female_Asian_18\n",
      "/opt/ml/input/data/train/images/006360_male_Asian_18\n",
      "/opt/ml/input/data/train/images/006360_female_Asian_18\n",
      "label changed 006360_male_Asian_18 006360_female_Asian_18\n",
      "/opt/ml/input/data/train/images/006361_male_Asian_18\n",
      "/opt/ml/input/data/train/images/006361_female_Asian_18\n",
      "label changed 006361_male_Asian_18 006361_female_Asian_18\n",
      "/opt/ml/input/data/train/images/006362_male_Asian_18\n",
      "/opt/ml/input/data/train/images/006362_female_Asian_18\n",
      "label changed 006362_male_Asian_18 006362_female_Asian_18\n",
      "/opt/ml/input/data/train/images/006363_male_Asian_18\n",
      "/opt/ml/input/data/train/images/006363_female_Asian_18\n",
      "label changed 006363_male_Asian_18 006363_female_Asian_18\n",
      "/opt/ml/input/data/train/images/006364_male_Asian_18\n",
      "/opt/ml/input/data/train/images/006364_female_Asian_18\n",
      "label changed 006364_male_Asian_18 006364_female_Asian_18\n",
      "/opt/ml/input/data/train/images/006424_male_Asian_18\n",
      "/opt/ml/input/data/train/images/006424_female_Asian_18\n",
      "label changed 006424_male_Asian_18 006424_female_Asian_18\n",
      "/opt/ml/input/data/train/images/000667_male_Asian_57\n",
      "/opt/ml/input/data/train/images/000667_female_Asian_57\n",
      "label changed 000667_male_Asian_57 000667_female_Asian_57\n",
      "/opt/ml/input/data/train/images/003437_male_Asian_30\n",
      "/opt/ml/input/data/train/images/003437_female_Asian_30\n",
      "label changed 003437_male_Asian_30 003437_female_Asian_30\n",
      "/opt/ml/input/data/train/images/003421_male_Asian_38\n",
      "/opt/ml/input/data/train/images/003421_female_Asian_38\n",
      "label changed 003421_male_Asian_38 003421_female_Asian_38\n"
     ]
    }
   ],
   "source": [
    "for i in range(len(from_label)):\n",
    "    frompath = os.path.join(Image_path, from_label[i])\n",
    "    topath = os.path.join(Image_path, to_label[i])\n",
    "#     print(frompath)\n",
    "#     print(topath)\n",
    "    \n",
    "    try:\n",
    "        shutil.move(frompath, topath)\n",
    "        print(f'label changed {from_label[i]} {to_label[i]}')\n",
    "    except FileNotFoundError:\n",
    "        print(\"에러발생!\")\n",
    "        continue"
   ]
  },
  {
   "cell_type": "code",
   "execution_count": 28,
   "id": "a1023ea0-2ae5-4916-989a-1debb0c73530",
   "metadata": {},
   "outputs": [],
   "source": [
    "tempimage = os.path.join(Image_path, 'temp.jpg')"
   ]
  },
  {
   "cell_type": "code",
   "execution_count": 29,
   "id": "809b7527-5aa0-431a-b109-d9ed013d758f",
   "metadata": {},
   "outputs": [
    {
     "name": "stdout",
     "output_type": "stream",
     "text": [
      "changed!\n",
      "changed!\n",
      "changed!\n",
      "changed!\n"
     ]
    },
    {
     "ename": "IndexError",
     "evalue": "list index out of range",
     "output_type": "error",
     "traceback": [
      "\u001b[0;31m---------------------------------------------------------------------------\u001b[0m",
      "\u001b[0;31mIndexError\u001b[0m                                Traceback (most recent call last)",
      "\u001b[0;32m<ipython-input-29-964ce475dd35>\u001b[0m in \u001b[0;36m<module>\u001b[0;34m\u001b[0m\n\u001b[1;32m      3\u001b[0m \u001b[0;34m\u001b[0m\u001b[0m\n\u001b[1;32m      4\u001b[0m \u001b[0;32mfor\u001b[0m \u001b[0mi\u001b[0m \u001b[0;32min\u001b[0m \u001b[0mrange\u001b[0m\u001b[0;34m(\u001b[0m\u001b[0mlen\u001b[0m\u001b[0;34m(\u001b[0m\u001b[0mfrom_label\u001b[0m\u001b[0;34m)\u001b[0m\u001b[0;34m)\u001b[0m\u001b[0;34m:\u001b[0m\u001b[0;34m\u001b[0m\u001b[0;34m\u001b[0m\u001b[0m\n\u001b[0;32m----> 5\u001b[0;31m     \u001b[0mfromimage\u001b[0m \u001b[0;34m=\u001b[0m \u001b[0mos\u001b[0m\u001b[0;34m.\u001b[0m\u001b[0mpath\u001b[0m\u001b[0;34m.\u001b[0m\u001b[0mjoin\u001b[0m\u001b[0;34m(\u001b[0m\u001b[0mImage_path\u001b[0m\u001b[0;34m,\u001b[0m \u001b[0mfrom_list\u001b[0m\u001b[0;34m[\u001b[0m\u001b[0mi\u001b[0m\u001b[0;34m]\u001b[0m\u001b[0;34m)\u001b[0m\u001b[0;34m\u001b[0m\u001b[0;34m\u001b[0m\u001b[0m\n\u001b[0m\u001b[1;32m      6\u001b[0m     \u001b[0mtoimage\u001b[0m \u001b[0;34m=\u001b[0m \u001b[0mos\u001b[0m\u001b[0;34m.\u001b[0m\u001b[0mpath\u001b[0m\u001b[0;34m.\u001b[0m\u001b[0mjoin\u001b[0m\u001b[0;34m(\u001b[0m\u001b[0mImage_path\u001b[0m\u001b[0;34m,\u001b[0m \u001b[0mto_list\u001b[0m\u001b[0;34m[\u001b[0m\u001b[0mi\u001b[0m\u001b[0;34m]\u001b[0m\u001b[0;34m)\u001b[0m\u001b[0;34m\u001b[0m\u001b[0;34m\u001b[0m\u001b[0m\n\u001b[1;32m      7\u001b[0m \u001b[0;34m\u001b[0m\u001b[0m\n",
      "\u001b[0;31mIndexError\u001b[0m: list index out of range"
     ]
    }
   ],
   "source": [
    "to_list = [\"000020_female_Asian_50/normal.jpg\",\"000020_female_Asian_50/normal_2.jpg\",\"005227_male_Asian_22/normal.jpg\", \"005227_male_Asian_22/normal.j_2.jpg\"]\n",
    "from_list = [\"000020_female_Asian_50/incorrect_mask.jpg\",\"000020_female_Asian_50/incorrect_mask_2.jpg\", \"005227_male_Asian_22/incorrect_mask.jpg\", \"005227_male_Asian_22/incorrect_mask.j_2.jpg\"]\n",
    "\n",
    "for i in range(len(from_label)):\n",
    "    fromimage = os.path.join(Image_path, from_list[i])\n",
    "    toimage = os.path.join(Image_path, to_list[i])\n",
    "    \n",
    "    tempimage = os.path.join(Image_path, 'temp.jpg')\n",
    "    try:\n",
    "        shutil.move(fromimage, tempimage)\n",
    "        shutil.copyfile(toimage, fromimage)\n",
    "        shutil.move(tempimage, toimage)\n",
    "        print(\"changed!\")\n",
    "    except FileNotFoundError:\n",
    "        print(\"에러발생!\")\n",
    "        continue\n",
    "shutil.rmtree(tempimage)"
   ]
  },
  {
   "cell_type": "code",
   "execution_count": null,
   "id": "fa441191-af43-436d-ad03-44fa189edf0e",
   "metadata": {},
   "outputs": [],
   "source": []
  }
 ],
 "metadata": {
  "kernelspec": {
   "display_name": "Python 3",
   "language": "python",
   "name": "python3"
  },
  "language_info": {
   "codemirror_mode": {
    "name": "ipython",
    "version": 3
   },
   "file_extension": ".py",
   "mimetype": "text/x-python",
   "name": "python",
   "nbconvert_exporter": "python",
   "pygments_lexer": "ipython3",
   "version": "3.8.5"
  }
 },
 "nbformat": 4,
 "nbformat_minor": 5
}
